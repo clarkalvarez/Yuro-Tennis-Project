{
 "cells": [
  {
   "cell_type": "code",
   "execution_count": 3,
   "metadata": {
    "collapsed": true,
    "pycharm": {
     "is_executing": false
    }
   },
   "outputs": [],
   "source": [
    "import cv2\n",
    "import os\n",
    "import numpy as np\n",
    "from PIL import Image"
   ]
  },
  {
   "cell_type": "code",
   "execution_count": 6,
   "outputs": [],
   "source": [
    "IMAGE = \"../tenniscourt/orangecourt.jpg\"\n",
    "img = Image.open(IMAGE)\n",
    "img.show()\n"
   ],
   "metadata": {
    "collapsed": false,
    "pycharm": {
     "name": "#%%\n",
     "is_executing": false
    }
   }
  },
  {
   "cell_type": "code",
   "execution_count": 17,
   "outputs": [],
   "source": [
    "image = cv2.imread(IMAGE)\n",
    "\n",
    "def show_image(*im):\n",
    "    for n, i in enumerate(im):\n",
    "        cv2.imshow(\"Image\"+str(n), i)\n",
    "    cv2.waitKey(0)\n",
    "    cv2.destroyAllWindows()"
   ],
   "metadata": {
    "collapsed": false,
    "pycharm": {
     "name": "#%% Read Image\n",
     "is_executing": false
    }
   }
  },
  {
   "cell_type": "code",
   "execution_count": 9,
   "outputs": [],
   "source": [
    "hsv = cv2.cvtColor(image, cv2.COLOR_BGR2HSV)\n",
    "show_image(hsv)\n"
   ],
   "metadata": {
    "collapsed": false,
    "pycharm": {
     "name": "#%% Get Lines\n",
     "is_executing": false
    }
   }
  },
  {
   "cell_type": "code",
   "execution_count": 10,
   "outputs": [],
   "source": [
    "def nothing(x):\n",
    "    pass"
   ],
   "metadata": {
    "collapsed": false,
    "pycharm": {
     "name": "#%%\n",
     "is_executing": false
    }
   }
  },
  {
   "cell_type": "code",
   "execution_count": 19,
   "outputs": [],
   "source": [
    "cv2.namedWindow(\"TrackBar\")\n",
    "\n",
    "cv2.createTrackbar(\"LOWER H\", \"TrackBar\", 0, 255, nothing)\n",
    "cv2.createTrackbar(\"LOWER S\", \"TrackBar\", 0, 255, nothing)\n",
    "cv2.createTrackbar(\"LOWER V\", \"TrackBar\", 0, 255, nothing)\n",
    "cv2.createTrackbar(\"UPPER H\", \"TrackBar\", 50, 255, nothing)\n",
    "cv2.createTrackbar(\"UPPER S\", \"TrackBar\", 50, 255, nothing)\n",
    "cv2.createTrackbar(\"UPPER V\", \"TrackBar\", 50, 255, nothing)\n",
    "\n",
    "show_image(image)"
   ],
   "metadata": {
    "collapsed": false,
    "pycharm": {
     "name": "#%%\n",
     "is_executing": false
    }
   }
  },
  {
   "cell_type": "code",
   "execution_count": 18,
   "outputs": [],
   "source": [
    "thresh = cv2.inRange(image, (0,0,0), (50, 50, 50))\n",
    "show_image(thresh, image)"
   ],
   "metadata": {
    "collapsed": false,
    "pycharm": {
     "name": "#%%\n",
     "is_executing": false
    }
   }
  },
  {
   "cell_type": "code",
   "execution_count": 23,
   "outputs": [],
   "source": [
    "cv2.namedWindow(\"TrackBar\")\n",
    "\n",
    "cv2.createTrackbar(\"LOWER H\", \"TrackBar\", 0, 255, nothing)\n",
    "cv2.createTrackbar(\"LOWER S\", \"TrackBar\", 52, 255, nothing)\n",
    "cv2.createTrackbar(\"LOWER V\", \"TrackBar\", 100, 255, nothing)\n",
    "cv2.createTrackbar(\"UPPER H\", \"TrackBar\", 23, 255, nothing)\n",
    "cv2.createTrackbar(\"UPPER S\", \"TrackBar\", 139, 255, nothing)\n",
    "cv2.createTrackbar(\"UPPER V\", \"TrackBar\", 255, 255, nothing)\n",
    "\n",
    "while True:\n",
    "    l_h = cv2.getTrackbarPos('LOWER H','TrackBar')\n",
    "    l_s = cv2.getTrackbarPos('LOWER S','TrackBar')\n",
    "    l_v = cv2.getTrackbarPos('LOWER V','TrackBar')    \n",
    "    u_h = cv2.getTrackbarPos('UPPER H','TrackBar')\n",
    "    u_s = cv2.getTrackbarPos('UPPER S','TrackBar')\n",
    "    u_v = cv2.getTrackbarPos('UPPER V','TrackBar')\n",
    "    \n",
    "    thresh = cv2.inRange(hsv, (l_h,l_s,l_v), (u_h, u_s, u_v))\n",
    "    \n",
    "    cv2.imshow(\"Image\", image)\n",
    "    cv2.imshow(\"InRange\", thresh)\n",
    "    k = cv2.waitKey(1) & 0xFF\n",
    "    if k == ord('q'):\n",
    "        break\n",
    "        \n",
    "cv2.destroyAllWindows()\n"
   ],
   "metadata": {
    "collapsed": false,
    "pycharm": {
     "name": "#%%\n",
     "is_executing": false
    }
   }
  },
  {
   "cell_type": "code",
   "execution_count": null,
   "outputs": [],
   "source": [
    "\n"
   ],
   "metadata": {
    "collapsed": false,
    "pycharm": {
     "name": "#%%\n"
    }
   }
  }
 ],
 "metadata": {
  "language_info": {
   "codemirror_mode": {
    "name": "ipython",
    "version": 2
   },
   "file_extension": ".py",
   "mimetype": "text/x-python",
   "name": "python",
   "nbconvert_exporter": "python",
   "pygments_lexer": "ipython2",
   "version": "2.7.6"
  },
  "kernelspec": {
   "name": "python3",
   "language": "python",
   "display_name": "Python 3"
  },
  "pycharm": {
   "stem_cell": {
    "cell_type": "raw",
    "source": [],
    "metadata": {
     "collapsed": false
    }
   }
  }
 },
 "nbformat": 4,
 "nbformat_minor": 0
}